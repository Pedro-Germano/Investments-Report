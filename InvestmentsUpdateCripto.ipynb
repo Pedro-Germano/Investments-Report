{
 "cells": [
  {
   "cell_type": "code",
   "execution_count": null,
   "id": "4f878dde",
   "metadata": {},
   "outputs": [
    {
     "name": "stderr",
     "output_type": "stream",
     "text": [
      "\n",
      "1 Failed download:\n",
      "['BITCOIN']: YFPricesMissingError('possibly delisted; no price data found  (period=1d) (Yahoo error = \"No data found, symbol may be delisted\")')\n"
     ]
    },
    {
     "name": "stdout",
     "output_type": "stream",
     "text": [
      "[AVISO] Não foi possível obter bitcoin via yfinance. Tentando CoinGecko...\n"
     ]
    },
    {
     "data": {
      "text/html": [
       "<div>\n",
       "<style scoped>\n",
       "    .dataframe tbody tr th:only-of-type {\n",
       "        vertical-align: middle;\n",
       "    }\n",
       "\n",
       "    .dataframe tbody tr th {\n",
       "        vertical-align: top;\n",
       "    }\n",
       "\n",
       "    .dataframe thead th {\n",
       "        text-align: right;\n",
       "    }\n",
       "</style>\n",
       "<table border=\"1\" class=\"dataframe\">\n",
       "  <thead>\n",
       "    <tr style=\"text-align: right;\">\n",
       "      <th></th>\n",
       "      <th>Ticker</th>\n",
       "      <th>Quantidade</th>\n",
       "      <th>Preço Médio</th>\n",
       "      <th>Data de Compra</th>\n",
       "      <th>Cotação Atual</th>\n",
       "      <th>Valor Atual</th>\n",
       "      <th>Valor Investido</th>\n",
       "      <th>Lucro/Prejuízo (R$)</th>\n",
       "      <th>Rentabilidade Total (%)</th>\n",
       "      <th>Rentabilidade Anualizada (%)</th>\n",
       "    </tr>\n",
       "  </thead>\n",
       "  <tbody>\n",
       "    <tr>\n",
       "      <th>0</th>\n",
       "      <td>bitcoin</td>\n",
       "      <td>0.000054</td>\n",
       "      <td>593407.91</td>\n",
       "      <td>2025-06-28</td>\n",
       "      <td>582931</td>\n",
       "      <td>31.76</td>\n",
       "      <td>32.334797</td>\n",
       "      <td>-0.57</td>\n",
       "      <td>-1.77</td>\n",
       "      <td>-66.16</td>\n",
       "    </tr>\n",
       "  </tbody>\n",
       "</table>\n",
       "</div>"
      ],
      "text/plain": [
       "    Ticker  Quantidade  Preço Médio Data de Compra Cotação Atual Valor Atual  \\\n",
       "0  bitcoin    0.000054    593407.91     2025-06-28        582931       31.76   \n",
       "\n",
       "   Valor Investido Lucro/Prejuízo (R$) Rentabilidade Total (%)  \\\n",
       "0        32.334797               -0.57                   -1.77   \n",
       "\n",
       "  Rentabilidade Anualizada (%)  \n",
       "0                       -66.16  "
      ]
     },
     "execution_count": 57,
     "metadata": {},
     "output_type": "execute_result"
    }
   ],
   "source": [
    "import pandas as pd\n",
    "import yfinance as yf\n",
    "import requests\n",
    "import pytz\n",
    "import time\n",
    "from datetime import datetime\n",
    "\n",
    "import warnings\n",
    "warnings.simplefilter(action='ignore', category=FutureWarning)\n",
    "\"\"\"\n",
    "# Ativos\n",
    "wallet = pd.DataFrame([\n",
    "    {\"Ticker\": \"B3SA3.SA\", \"Quantidade\": 50, \"Preço Médio\": 9.93, \"Data de Compra\": \"2024-12-09\"},\n",
    "    {\"Ticker\": \"BTCI11.SA\", \"Quantidade\": 36, \"Preço Médio\": 8.11, \"Data de Compra\": \"2024-12-09\"},\n",
    "    {\"Ticker\": \"BTHF11.SA\", \"Quantidade\": 5, \"Preço Médio\": 8.73, \"Data de Compra\": \"2025-07-01\"},\n",
    "    {\"Ticker\": \"ROXO34.SA\", \"Quantidade\": 41, \"Preço Médio\": 12.15, \"Data de Compra\": \"2024-12-09\"},\n",
    "    {\"Ticker\": \"bitcoin\", \"Quantidade\": 0.00005449, \"Preço Médio\": 593407.91, \"Data de Compra\": \"2025-06-28\"}\n",
    "])\n",
    "\"\"\"\n",
    "\n",
    "wallet = pd.DataFrame([\n",
    "    {\"Ticker\": \"bitcoin\", \"Quantidade\": 0.00005449, \"Preço Médio\": 593407.91, \"Data de Compra\": \"2025-06-28\"}\n",
    "])\n",
    "\n",
    "# Cria novas colunas para os resultados\n",
    "wallet['Cotação Atual'] = None\n",
    "wallet['Valor Atual'] = None\n",
    "wallet['Valor Investido'] = wallet['Quantidade'] * wallet['Preço Médio']\n",
    "wallet['Lucro/Prejuízo (R$)'] = None\n",
    "wallet['Rentabilidade Total (%)'] = None\n",
    "wallet['Rentabilidade Anualizada (%)'] = None\n",
    "\n",
    "# Função para pegar Cotação Atual de criptomoedas\n",
    "br_timezone = pytz.timezone(\"America/Sao_Paulo\")\n",
    "hoje_brasilia = datetime.now(br_timezone)\n",
    "\n",
    "def get_crypto_price_brl(crypto_ids):\n",
    "    \"\"\"\n",
    "    Retorna o preço em BRL de uma ou mais criptomoedas usando a CoinGecko API.\n",
    "    \n",
    "    Parâmetro:\n",
    "        crypto_ids (str ou list): Nome(s) no padrão CoinGecko (ex: 'bitcoin', 'ethereum', 'solana')\n",
    "    \n",
    "    Retorna:\n",
    "        dict: {'bitcoin': 342000.0, 'ethereum': 19000.0}\n",
    "    \"\"\"\n",
    "    # Converte string para lista\n",
    "    if isinstance(crypto_ids, str): \n",
    "        crypto_ids = [crypto_ids]\n",
    "\n",
    "    # Cria uma string separada por vírgulas\n",
    "    ids_str = ','.join(crypto_ids)\n",
    "    url = f\"https://api.coingecko.com/api/v3/simple/price?ids={ids_str}&vs_currencies=brl\"\n",
    "    response = requests.get(url)\n",
    "\n",
    "    if response.status_code == 200:\n",
    "        return response.json()\n",
    "    else:\n",
    "        raise ValueError(f\"Erro ao buscar preço das criptomoedas: {crypto_ids}\")\n",
    "\n",
    "# Processa cada ativo\n",
    "for i, row in wallet.iterrows():\n",
    "    ticker = row['Ticker']\n",
    "    quantidade = row['Quantidade']\n",
    "    preco_medio = row['Preço Médio']\n",
    "    data_compra = pd.to_datetime(row['Data de Compra']).tz_localize('America/Sao_Paulo')\n",
    "\n",
    "    # Dias em posse\n",
    "    dias_posse = (hoje_brasilia - data_compra).days\n",
    "    if dias_posse <= 0:\n",
    "        dias_posse = 1  # Evita divisão por zero\n",
    "\n",
    "    try:\n",
    "        # Tenta pegar com yfinance (ativo tradicional)\n",
    "        dados = yf.download(ticker, period='1d', interval='1m', progress=False, auto_adjust=True)\n",
    "        preco_atual = float(dados['Close'].dropna().iloc[-1].squeeze())\n",
    "    except Exception as e:\n",
    "        print(f\"[AVISO] Não foi possível obter {ticker} via yfinance. Tentando CoinGecko...\")\n",
    "\n",
    "        try:\n",
    "            preco_atual = get_crypto_price_brl(ticker)[ticker]['brl']\n",
    "            time.sleep(10)\n",
    "        except Exception as cg_err:\n",
    "            print(f\"[ERRO] Falha também com CoinGecko para {ticker}: {cg_err}\")\n",
    "            preco_atual = None\n",
    "\n",
    "    valor_atual = quantidade * preco_atual\n",
    "    valor_investido = quantidade * preco_medio\n",
    "    lucro = valor_atual - valor_investido\n",
    "    rent_total = (valor_atual / valor_investido) - 1\n",
    "    rent_anual = (1 + rent_total) ** (365 / dias_posse) - 1\n",
    "\n",
    "    wallet.at[i, 'Cotação Atual'] = round(preco_atual, 2)\n",
    "    wallet.at[i, 'Valor Atual'] = round(valor_atual, 2)\n",
    "    wallet.at[i, 'Lucro/Prejuízo (R$)'] = round(lucro, 2)\n",
    "    wallet.at[i, 'Rentabilidade Total (%)'] = round(rent_total * 100, 2)\n",
    "    wallet.at[i, 'Rentabilidade Anualizada (%)'] = round(rent_anual * 100, 2)\n",
    "\n",
    "# Exibe resultado\n",
    "wallet"
   ]
  },
  {
   "cell_type": "code",
   "execution_count": null,
   "id": "719549b3",
   "metadata": {},
   "outputs": [
    {
     "name": "stderr",
     "output_type": "stream",
     "text": [
      "\n",
      "1 Failed download:\n",
      "['BITCOIN']: YFTzMissingError('possibly delisted; no timezone found')\n"
     ]
    },
    {
     "name": "stdout",
     "output_type": "stream",
     "text": [
      "[AVISO] Não foi possível obter bitcoin via yfinance. Tentando CoinGecko...\n",
      "2025-07-03 590590.2588453247\n",
      "592926.0077387808\n"
     ]
    },
    {
     "name": "stderr",
     "output_type": "stream",
     "text": [
      "\n",
      "1 Failed download:\n",
      "['BITCOIN']: YFTzMissingError('possibly delisted; no timezone found')\n"
     ]
    },
    {
     "name": "stdout",
     "output_type": "stream",
     "text": [
      "[AVISO] Não foi possível obter bitcoin via yfinance. Tentando CoinGecko...\n",
      "2025-06-27 586122.6110893537\n",
      "592926.0077387808\n"
     ]
    },
    {
     "name": "stderr",
     "output_type": "stream",
     "text": [
      "\n",
      "1 Failed download:\n",
      "['BITCOIN']: YFTzMissingError('possibly delisted; no timezone found')\n"
     ]
    },
    {
     "name": "stdout",
     "output_type": "stream",
     "text": [
      "[AVISO] Não foi possível obter bitcoin via yfinance. Tentando CoinGecko...\n",
      "2025-06-04 594576.648691961\n",
      "592926.0077387808\n"
     ]
    },
    {
     "name": "stderr",
     "output_type": "stream",
     "text": [
      "\n",
      "1 Failed download:\n",
      "['BITCOIN']: YFTzMissingError('possibly delisted; no timezone found')\n"
     ]
    },
    {
     "name": "stdout",
     "output_type": "stream",
     "text": [
      "[AVISO] Não foi possível obter bitcoin via yfinance. Tentando CoinGecko...\n",
      "2025-01-01 578337.1295983214\n",
      "592926.0077387808\n"
     ]
    },
    {
     "name": "stderr",
     "output_type": "stream",
     "text": [
      "\n",
      "1 Failed download:\n",
      "['BITCOIN']: YFTzMissingError('possibly delisted; no timezone found')\n"
     ]
    },
    {
     "name": "stdout",
     "output_type": "stream",
     "text": [
      "[AVISO] Não foi possível obter bitcoin via yfinance. Tentando CoinGecko...\n",
      "2025-07-03 590590.2588453247\n",
      "592926.0077387808\n"
     ]
    },
    {
     "name": "stderr",
     "output_type": "stream",
     "text": [
      "\n",
      "1 Failed download:\n",
      "['BITCOIN']: YFTzMissingError('possibly delisted; no timezone found')\n",
      "\n",
      "1 Failed download:\n",
      "['BITCOIN']: YFTzMissingError('possibly delisted; no timezone found')\n"
     ]
    },
    {
     "name": "stdout",
     "output_type": "stream",
     "text": [
      "[AVISO] Não foi possível obter bitcoin via yfinance. Tentando CoinGecko...\n",
      "[ERRO] Falha também com CoinGecko para bitcoin: Erro ao buscar histórico de bitcoin em 2025-06-27 (status 429)\n",
      "[AVISO] Não foi possível obter bitcoin via yfinance. Tentando CoinGecko...\n"
     ]
    },
    {
     "name": "stderr",
     "output_type": "stream",
     "text": [
      "\n",
      "1 Failed download:\n",
      "['BITCOIN']: YFTzMissingError('possibly delisted; no timezone found')\n"
     ]
    },
    {
     "name": "stdout",
     "output_type": "stream",
     "text": [
      "[ERRO] Falha também com CoinGecko para bitcoin: Erro ao buscar histórico de bitcoin em 2025-06-04 (status 429)\n",
      "[AVISO] Não foi possível obter bitcoin via yfinance. Tentando CoinGecko...\n",
      "[ERRO] Falha também com CoinGecko para bitcoin: Erro ao buscar histórico de bitcoin em 2025-01-01 (status 429)\n"
     ]
    },
    {
     "data": {
      "text/html": [
       "<div>\n",
       "<style scoped>\n",
       "    .dataframe tbody tr th:only-of-type {\n",
       "        vertical-align: middle;\n",
       "    }\n",
       "\n",
       "    .dataframe tbody tr th {\n",
       "        vertical-align: top;\n",
       "    }\n",
       "\n",
       "    .dataframe thead th {\n",
       "        text-align: right;\n",
       "    }\n",
       "</style>\n",
       "<table border=\"1\" class=\"dataframe\">\n",
       "  <thead>\n",
       "    <tr style=\"text-align: right;\">\n",
       "      <th></th>\n",
       "      <th>Ticker</th>\n",
       "      <th>Rent. Diária (%)</th>\n",
       "      <th>Rent. Semanal (%)</th>\n",
       "      <th>Rent. Mensal (%)</th>\n",
       "      <th>Rent. YTD (%)</th>\n",
       "    </tr>\n",
       "  </thead>\n",
       "  <tbody>\n",
       "    <tr>\n",
       "      <th>0</th>\n",
       "      <td>bitcoin</td>\n",
       "      <td>0.4</td>\n",
       "      <td>1.16</td>\n",
       "      <td>-0.28</td>\n",
       "      <td>2.52</td>\n",
       "    </tr>\n",
       "    <tr>\n",
       "      <th>1</th>\n",
       "      <td>Total</td>\n",
       "      <td>0.4</td>\n",
       "      <td>NaN</td>\n",
       "      <td>NaN</td>\n",
       "      <td>NaN</td>\n",
       "    </tr>\n",
       "  </tbody>\n",
       "</table>\n",
       "</div>"
      ],
      "text/plain": [
       "    Ticker  Rent. Diária (%)  Rent. Semanal (%)  Rent. Mensal (%)  \\\n",
       "0  bitcoin               0.4               1.16             -0.28   \n",
       "1    Total               0.4                NaN               NaN   \n",
       "\n",
       "   Rent. YTD (%)  \n",
       "0           2.52  \n",
       "1            NaN  "
      ]
     },
     "execution_count": 49,
     "metadata": {},
     "output_type": "execute_result"
    }
   ],
   "source": [
    "cache_precos = {}\n",
    "cache_precos_realtime_cripto = {}\n",
    "\n",
    "def get_crypto_price_brl_on_date_cached(crypto_id: str, date: str) -> float:\n",
    "    chave = f\"{crypto_id}_{date}\"\n",
    "    \n",
    "    # Retorna do cache se já buscado\n",
    "    if chave in cache_precos:\n",
    "        return cache_precos[chave]\n",
    "\n",
    "    # Caso contrário, busca na API\n",
    "    try:\n",
    "        date_obj = datetime.strptime(date, \"%Y-%m-%d\")\n",
    "        formatted_date = date_obj.strftime(\"%d-%m-%Y\")\n",
    "    except ValueError:\n",
    "        raise ValueError(\"Data deve estar no formato YYYY-MM-DD\")\n",
    "\n",
    "    url = f\"https://api.coingecko.com/api/v3/coins/{crypto_id}/history?date={formatted_date}&localization=false\"\n",
    "    response = requests.get(url)\n",
    "\n",
    "    if response.status_code != 200:\n",
    "        raise ValueError(f\"Erro ao buscar histórico de {crypto_id} em {date} (status {response.status_code})\")\n",
    "\n",
    "    data = response.json()\n",
    "\n",
    "    try:\n",
    "        preco = data[\"market_data\"][\"current_price\"][\"brl\"]\n",
    "        cache_precos[chave] = preco\n",
    "        time.sleep(1)  # espera para não sobrecarregar a API\n",
    "        return preco\n",
    "    except KeyError:\n",
    "        raise ValueError(f\"Preço em BRL não disponível para {crypto_id} em {date}\")\n",
    "\n",
    "# Função para rentabilidade de um ativo individual\n",
    "def calcular_rentabilidade_ativo(ticker, qtd, dias):\n",
    "    data_inicio = (hoje_brasilia - pd.Timedelta(days=dias)).strftime('%Y-%m-%d')\n",
    "    try:\n",
    "        dados = yf.download(ticker, start=data_inicio, progress=False, auto_adjust=True)\n",
    "        preco_inicio = float(dados['Close'].dropna().iloc[0].squeeze())\n",
    "        preco_hoje = float(dados['Close'].dropna().iloc[-1].squeeze())\n",
    "    except Exception:\n",
    "        print(f\"[AVISO] Não foi possível obter {ticker} via yfinance. Tentando CoinGecko...\")\n",
    "        \n",
    "        try:\n",
    "            preco_inicio = get_crypto_price_brl_on_date_cached(ticker, data_inicio)\n",
    "            print(data_inicio, preco_inicio)\n",
    "            time.sleep(10)\n",
    "            preco_hoje = get_crypto_price_brl(ticker)\n",
    "            print(preco_hoje)\n",
    "            time.sleep(10)\n",
    "        except Exception as cg_err:\n",
    "            print(f\"[ERRO] Falha também com CoinGecko para {ticker}: {cg_err}\")\n",
    "            return None, None, None\n",
    "\n",
    "    valor_inicial = preco_inicio * qtd\n",
    "    valor_final = preco_hoje * qtd\n",
    "    rentabilidade = (valor_final / valor_inicial - 1) * 100\n",
    "\n",
    "    return valor_inicial, valor_final, rentabilidade\n",
    "\n",
    "# Calcula tabela completa de rentabilidades\n",
    "def calcular_tabela_rentabilidades(wallet):\n",
    "    br_tz = pytz.timezone(\"America/Sao_Paulo\")\n",
    "    inicio_do_ano = br_tz.localize(datetime(hoje_brasilia.year, 1, 1))\n",
    "    \n",
    "    periodos = {\n",
    "        \"Rent. Diária (%)\": 1,\n",
    "        \"Rent. Semanal (%)\": 7,\n",
    "        \"Rent. Mensal (%)\": 30,\n",
    "        \"Rent. YTD (%)\": (hoje_brasilia - inicio_do_ano).days\n",
    "    }\n",
    "\n",
    "    resultado = []\n",
    "\n",
    "    for i, row in wallet.iterrows():\n",
    "        ticker = row['Ticker']\n",
    "        qtd = row['Quantidade']\n",
    "        linha = {\"Ticker\": ticker}\n",
    "\n",
    "        for nome_periodo, dias in periodos.items():\n",
    "            valor_ini, valor_fim, rent = calcular_rentabilidade_ativo(ticker, qtd, dias)\n",
    "            linha[nome_periodo] = round(rent, 2) if rent is not None else None\n",
    "\n",
    "        resultado.append(linha)\n",
    "\n",
    "    df_resultado = pd.DataFrame(resultado)\n",
    "\n",
    "    # Adiciona linha final com rentabilidade total da carteira ponderada\n",
    "    total_row = {\"Ticker\": \"Total\"}\n",
    "    for nome_periodo, dias in periodos.items():\n",
    "        total_ini = 0\n",
    "        total_fim = 0\n",
    "        for i, row in wallet.iterrows():\n",
    "            ticker = row['Ticker']\n",
    "            qtd = row['Quantidade']\n",
    "            valor_ini, valor_fim, _ = calcular_rentabilidade_ativo(ticker, qtd, dias)\n",
    "            if valor_ini is not None:\n",
    "                total_ini += valor_ini\n",
    "                total_fim += valor_fim\n",
    "        rent_total = (total_fim / total_ini - 1) * 100 if total_ini > 0 else None\n",
    "        total_row[nome_periodo] = round(rent_total, 2) if rent_total is not None else None\n",
    "\n",
    "    df_resultado = pd.concat([df_resultado, pd.DataFrame([total_row])], ignore_index=True)\n",
    "    return df_resultado\n",
    "\n",
    "profitability = calcular_tabela_rentabilidades(wallet)\n",
    "profitability"
   ]
  }
 ],
 "metadata": {
  "kernelspec": {
   "display_name": "Python 3",
   "language": "python",
   "name": "python3"
  },
  "language_info": {
   "codemirror_mode": {
    "name": "ipython",
    "version": 3
   },
   "file_extension": ".py",
   "mimetype": "text/x-python",
   "name": "python",
   "nbconvert_exporter": "python",
   "pygments_lexer": "ipython3",
   "version": "3.11.9"
  }
 },
 "nbformat": 4,
 "nbformat_minor": 5
}
